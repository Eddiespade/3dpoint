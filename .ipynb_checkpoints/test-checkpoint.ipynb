{
 "cells": [
  {
   "cell_type": "code",
   "execution_count": 40,
   "id": "f49c5733",
   "metadata": {},
   "outputs": [
    {
     "data": {
      "text/plain": [
       "['height: 480',\n",
       " 'width: 640',\n",
       " 'D: [0.0, 0.0, 0.0, 0.0, 0.0]',\n",
       " 'K: [490.7543586537664, 0.0, 320.0, 0.0, 490.7543586537664, 240.0, 0.0, 0.0, 1.0]',\n",
       " 'R: [0.9999958657760012, -0.0022553109403902227, 0.0017838171061581537, 0.0022553145286024028, 0.9999974567749544, 0.0, -0.0017838125695098126, 4.023068635887978e-06, 0.9999984089970002]',\n",
       " 'P: [490.1815097430762, -1.1055162921525423, 320.8749068989283, 0.0, 0.6786904183644387, 490.7540760914629, 239.99961815928006, 0.0, -0.0017838125695098126, 4.023068635887978e-06, 0.9999984089970002, 0.0]']"
      ]
     },
     "execution_count": 40,
     "metadata": {},
     "output_type": "execute_result"
    }
   ],
   "source": [
    "import os\n",
    "import numpy as np\n",
    "\n",
    "cam_param_path = \"./data/camera.txt\"\n",
    "\n",
    "with open(cam_param_path, 'r') as f:\n",
    "    data = f.read().strip().split('\\n')\n",
    "data"
   ]
  },
  {
   "cell_type": "code",
   "execution_count": 22,
   "id": "2bb7b574",
   "metadata": {
    "scrolled": true
   },
   "outputs": [
    {
     "data": {
      "text/plain": [
       "{'height': '480',\n",
       " 'width': '640',\n",
       " 'D': '[0.0, 0.0, 0.0, 0.0, 0.0]',\n",
       " 'K': '[490.7543586537664, 0.0, 320.0, 0.0, 490.7543586537664, 240.0, 0.0, 0.0, 1.0]',\n",
       " 'R': '[0.9999958657760012, -0.0022553109403902227, 0.0017838171061581537, 0.0022553145286024028, 0.9999974567749544, 0.0, -0.0017838125695098126, 4.023068635887978e-06, 0.9999984089970002]',\n",
       " 'P': '[490.1815097430762, -1.1055162921525423, 320.8749068989283, 0.0, 0.6786904183644387, 490.7540760914629, 239.99961815928006, 0.0, -0.0017838125695098126, 4.023068635887978e-06, 0.9999984089970002, 0.0]'}"
      ]
     },
     "execution_count": 22,
     "metadata": {},
     "output_type": "execute_result"
    }
   ],
   "source": [
    "params = {}\n",
    "for param in data:\n",
    "    if param.strip() == '':\n",
    "        continue\n",
    "    param = param.split(\":\")\n",
    "    params[param[0].strip()] = param[1].strip()\n",
    "params"
   ]
  },
  {
   "cell_type": "code",
   "execution_count": 38,
   "id": "cf6c270a",
   "metadata": {},
   "outputs": [
    {
     "data": {
      "text/plain": [
       "(3, 3)"
      ]
     },
     "execution_count": 38,
     "metadata": {},
     "output_type": "execute_result"
    }
   ],
   "source": [
    "s = params['R']\n",
    "# 首先去掉前后[]\n",
    "length = len(s)\n",
    "assert s[0] == '[' and s[length - 1] == ']', \\\n",
    "    \"不符合转换格式\"\n",
    "\n",
    "s = np.asarray(s[1:length - 1].split(',')).reshape(3, -1)\n",
    "s.shape\n",
    "    "
   ]
  }
 ],
 "metadata": {
  "kernelspec": {
   "display_name": "yolov5",
   "language": "python",
   "name": "yolov5"
  },
  "language_info": {
   "codemirror_mode": {
    "name": "ipython",
    "version": 3
   },
   "file_extension": ".py",
   "mimetype": "text/x-python",
   "name": "python",
   "nbconvert_exporter": "python",
   "pygments_lexer": "ipython3",
   "version": "3.9.13"
  }
 },
 "nbformat": 4,
 "nbformat_minor": 5
}
